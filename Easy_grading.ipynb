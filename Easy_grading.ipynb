{
 "cells": [
  {
   "cell_type": "code",
   "execution_count": 1,
   "metadata": {},
   "outputs": [],
   "source": [
    "# Load libraries\n",
    "import pandas as pd\n",
    "import matplotlib.pyplot as plt"
   ]
  },
  {
   "cell_type": "code",
   "execution_count": 2,
   "metadata": {},
   "outputs": [],
   "source": [
    "# Load score dataframe from the respective path\n",
    "score_df = pd.read_csv(\"sample_score_data.csv\")"
   ]
  },
  {
   "cell_type": "code",
   "execution_count": 3,
   "metadata": {},
   "outputs": [],
   "source": [
    "# Function for the user inputs\n",
    "def user_input(colname):\n",
    "    column_use = input(\"Do you want to calculate grades for \" + colname + \"? (y/n)\")\n",
    "    if column_use.lower() == 'y' or column_use.lower() == 'yes':\n",
    "        max_score = int(input(\"What is the maximum score for this test?\"))\n",
    "        percentage = int(input(\"What is the minimum score percentage (just the number) for approval? (60% or 50% are commonly used)\"))\n",
    "    else:\n",
    "        print(\"Let's skip the column then\")\n",
    "        max_score = 0\n",
    "        percentage = 0\n",
    "    return max_score, percentage"
   ]
  },
  {
   "cell_type": "code",
   "execution_count": 4,
   "metadata": {},
   "outputs": [],
   "source": [
    "# Function that calculates the grade for each score\n",
    "def grade_calculator(score, max_score, percentage):\n",
    "    min_grade = 1.0\n",
    "    max_grade = 7.0\n",
    "    approval_grade = 4.0\n",
    "    e = percentage/100\n",
    "    if score < e * max_score:\n",
    "        grade = (approval_grade - min_grade) * (score / (e * max_score)) + min_grade\n",
    "    elif score >= e * max_score:\n",
    "        grade = (max_grade - approval_grade) * ((score - e * max_score) / (max_score * (1 - e))) + approval_grade\n",
    "    else:\n",
    "        print(\"Something went wrong, try again\")\n",
    "    return (round(grade,2))"
   ]
  },
  {
   "cell_type": "code",
   "execution_count": 5,
   "metadata": {},
   "outputs": [],
   "source": [
    "# Iterates through the desired columns with user_input() and apply grade_calculator()\n",
    "for i in range(1,len(score_df.columns)):\n",
    "    max_score, percentage = user_input(score_df.columns[i])\n",
    "    if not (max_score == 0) and not (percentage == 0):\n",
    "        score_df['Grade of ' + score_df.columns[i]] = score_df[score_df.columns[i]].apply(grade_calculator, args = (max_score, percentage))"
   ]
  },
  {
   "cell_type": "code",
   "execution_count": 7,
   "metadata": {},
   "outputs": [
    {
     "data": {
      "text/html": [
       "<div>\n",
       "<style scoped>\n",
       "    .dataframe tbody tr th:only-of-type {\n",
       "        vertical-align: middle;\n",
       "    }\n",
       "\n",
       "    .dataframe tbody tr th {\n",
       "        vertical-align: top;\n",
       "    }\n",
       "\n",
       "    .dataframe thead th {\n",
       "        text-align: right;\n",
       "    }\n",
       "</style>\n",
       "<table border=\"1\" class=\"dataframe\">\n",
       "  <thead>\n",
       "    <tr style=\"text-align: right;\">\n",
       "      <th></th>\n",
       "      <th>Student</th>\n",
       "      <th>Score Random</th>\n",
       "      <th>Score Normal</th>\n",
       "      <th>Score Gamma</th>\n",
       "      <th>Grade of Score Random</th>\n",
       "      <th>Grade of Score Normal</th>\n",
       "      <th>Grade of Score Gamma</th>\n",
       "    </tr>\n",
       "  </thead>\n",
       "  <tbody>\n",
       "    <tr>\n",
       "      <th>0</th>\n",
       "      <td>Student 1</td>\n",
       "      <td>88</td>\n",
       "      <td>55.15</td>\n",
       "      <td>4.11</td>\n",
       "      <td>6.10</td>\n",
       "      <td>3.76</td>\n",
       "      <td>2.03</td>\n",
       "    </tr>\n",
       "    <tr>\n",
       "      <th>1</th>\n",
       "      <td>Student 2</td>\n",
       "      <td>47</td>\n",
       "      <td>61.28</td>\n",
       "      <td>9.38</td>\n",
       "      <td>3.35</td>\n",
       "      <td>4.10</td>\n",
       "      <td>3.35</td>\n",
       "    </tr>\n",
       "    <tr>\n",
       "      <th>2</th>\n",
       "      <td>Student 3</td>\n",
       "      <td>75</td>\n",
       "      <td>66.52</td>\n",
       "      <td>3.75</td>\n",
       "      <td>5.12</td>\n",
       "      <td>4.49</td>\n",
       "      <td>1.94</td>\n",
       "    </tr>\n",
       "    <tr>\n",
       "      <th>3</th>\n",
       "      <td>Student 4</td>\n",
       "      <td>21</td>\n",
       "      <td>59.00</td>\n",
       "      <td>9.61</td>\n",
       "      <td>2.05</td>\n",
       "      <td>3.95</td>\n",
       "      <td>3.40</td>\n",
       "    </tr>\n",
       "    <tr>\n",
       "      <th>4</th>\n",
       "      <td>Student 5</td>\n",
       "      <td>90</td>\n",
       "      <td>65.02</td>\n",
       "      <td>4.38</td>\n",
       "      <td>6.25</td>\n",
       "      <td>4.38</td>\n",
       "      <td>2.09</td>\n",
       "    </tr>\n",
       "  </tbody>\n",
       "</table>\n",
       "</div>"
      ],
      "text/plain": [
       "     Student  Score Random  Score Normal  Score Gamma  Grade of Score Random  \\\n",
       "0  Student 1            88         55.15         4.11                   6.10   \n",
       "1  Student 2            47         61.28         9.38                   3.35   \n",
       "2  Student 3            75         66.52         3.75                   5.12   \n",
       "3  Student 4            21         59.00         9.61                   2.05   \n",
       "4  Student 5            90         65.02         4.38                   6.25   \n",
       "\n",
       "   Grade of Score Normal  Grade of Score Gamma  \n",
       "0                   3.76                  2.03  \n",
       "1                   4.10                  3.35  \n",
       "2                   4.49                  1.94  \n",
       "3                   3.95                  3.40  \n",
       "4                   4.38                  2.09  "
      ]
     },
     "execution_count": 7,
     "metadata": {},
     "output_type": "execute_result"
    }
   ],
   "source": [
    "score_df.head()"
   ]
  },
  {
   "cell_type": "code",
   "execution_count": 8,
   "metadata": {},
   "outputs": [],
   "source": [
    "# Saves grades to a csv file\n",
    "score_df.to_csv(\"sample_grades_output_data.csv\", index = False)"
   ]
  },
  {
   "cell_type": "code",
   "execution_count": 9,
   "metadata": {},
   "outputs": [
    {
     "data": {
      "text/html": [
       "<div>\n",
       "<style scoped>\n",
       "    .dataframe tbody tr th:only-of-type {\n",
       "        vertical-align: middle;\n",
       "    }\n",
       "\n",
       "    .dataframe tbody tr th {\n",
       "        vertical-align: top;\n",
       "    }\n",
       "\n",
       "    .dataframe thead th {\n",
       "        text-align: right;\n",
       "    }\n",
       "</style>\n",
       "<table border=\"1\" class=\"dataframe\">\n",
       "  <thead>\n",
       "    <tr style=\"text-align: right;\">\n",
       "      <th></th>\n",
       "      <th>Score Random</th>\n",
       "      <th>Score Normal</th>\n",
       "      <th>Score Gamma</th>\n",
       "      <th>Grade of Score Random</th>\n",
       "      <th>Grade of Score Normal</th>\n",
       "      <th>Grade of Score Gamma</th>\n",
       "    </tr>\n",
       "  </thead>\n",
       "  <tbody>\n",
       "    <tr>\n",
       "      <th>count</th>\n",
       "      <td>100.00000</td>\n",
       "      <td>100.000000</td>\n",
       "      <td>100.000000</td>\n",
       "      <td>100.00000</td>\n",
       "      <td>100.000000</td>\n",
       "      <td>100.000000</td>\n",
       "    </tr>\n",
       "    <tr>\n",
       "      <th>mean</th>\n",
       "      <td>54.64000</td>\n",
       "      <td>58.998000</td>\n",
       "      <td>3.884100</td>\n",
       "      <td>3.96300</td>\n",
       "      <td>4.041400</td>\n",
       "      <td>1.970800</td>\n",
       "    </tr>\n",
       "    <tr>\n",
       "      <th>std</th>\n",
       "      <td>27.44895</td>\n",
       "      <td>10.207365</td>\n",
       "      <td>2.567146</td>\n",
       "      <td>1.67053</td>\n",
       "      <td>0.630182</td>\n",
       "      <td>0.642274</td>\n",
       "    </tr>\n",
       "    <tr>\n",
       "      <th>min</th>\n",
       "      <td>1.00000</td>\n",
       "      <td>36.880000</td>\n",
       "      <td>0.130000</td>\n",
       "      <td>1.05000</td>\n",
       "      <td>2.840000</td>\n",
       "      <td>1.030000</td>\n",
       "    </tr>\n",
       "    <tr>\n",
       "      <th>25%</th>\n",
       "      <td>33.00000</td>\n",
       "      <td>51.137500</td>\n",
       "      <td>1.635000</td>\n",
       "      <td>2.65000</td>\n",
       "      <td>3.557500</td>\n",
       "      <td>1.412500</td>\n",
       "    </tr>\n",
       "    <tr>\n",
       "      <th>50%</th>\n",
       "      <td>53.00000</td>\n",
       "      <td>59.735000</td>\n",
       "      <td>3.740000</td>\n",
       "      <td>3.65000</td>\n",
       "      <td>3.985000</td>\n",
       "      <td>1.935000</td>\n",
       "    </tr>\n",
       "    <tr>\n",
       "      <th>75%</th>\n",
       "      <td>77.25000</td>\n",
       "      <td>66.307500</td>\n",
       "      <td>5.227500</td>\n",
       "      <td>5.29750</td>\n",
       "      <td>4.470000</td>\n",
       "      <td>2.307500</td>\n",
       "    </tr>\n",
       "    <tr>\n",
       "      <th>max</th>\n",
       "      <td>99.00000</td>\n",
       "      <td>86.930000</td>\n",
       "      <td>9.610000</td>\n",
       "      <td>6.92000</td>\n",
       "      <td>6.020000</td>\n",
       "      <td>3.400000</td>\n",
       "    </tr>\n",
       "  </tbody>\n",
       "</table>\n",
       "</div>"
      ],
      "text/plain": [
       "       Score Random  Score Normal  Score Gamma  Grade of Score Random  \\\n",
       "count     100.00000    100.000000   100.000000              100.00000   \n",
       "mean       54.64000     58.998000     3.884100                3.96300   \n",
       "std        27.44895     10.207365     2.567146                1.67053   \n",
       "min         1.00000     36.880000     0.130000                1.05000   \n",
       "25%        33.00000     51.137500     1.635000                2.65000   \n",
       "50%        53.00000     59.735000     3.740000                3.65000   \n",
       "75%        77.25000     66.307500     5.227500                5.29750   \n",
       "max        99.00000     86.930000     9.610000                6.92000   \n",
       "\n",
       "       Grade of Score Normal  Grade of Score Gamma  \n",
       "count             100.000000            100.000000  \n",
       "mean                4.041400              1.970800  \n",
       "std                 0.630182              0.642274  \n",
       "min                 2.840000              1.030000  \n",
       "25%                 3.557500              1.412500  \n",
       "50%                 3.985000              1.935000  \n",
       "75%                 4.470000              2.307500  \n",
       "max                 6.020000              3.400000  "
      ]
     },
     "execution_count": 9,
     "metadata": {},
     "output_type": "execute_result"
    },
    {
     "data": {
      "image/png": "[encoded data removed]",
      "text/plain": [
       "<matplotlib.figure.Figure at 0x111d19b70>"
      ]
     },
     "metadata": {},
     "output_type": "display_data"
    },
    {
     "data": {
      "image/png": "[encoded data removed]",
      "text/plain": [
       "<matplotlib.figure.Figure at 0x117766390>"
      ]
     },
     "metadata": {},
     "output_type": "display_data"
    },
    {
     "data": {
      "image/png": "[encoded data removed]",
      "text/plain": [
       "<matplotlib.figure.Figure at 0x117766710>"
      ]
     },
     "metadata": {},
     "output_type": "display_data"
    },
    {
     "data": {
      "image/png": "[encoded data removed]",
      "text/plain": [
       "<matplotlib.figure.Figure at 0x1177ec940>"
      ]
     },
     "metadata": {},
     "output_type": "display_data"
    },
    {
     "data": {
      "image/png": "[encoded data removed]",
      "text/plain": [
       "<matplotlib.figure.Figure at 0x11785bf98>"
      ]
     },
     "metadata": {},
     "output_type": "display_data"
    },
    {
     "data": {
      "image/png": "[encoded data removed]",
      "text/plain": [
       "<matplotlib.figure.Figure at 0x1178d80f0>"
      ]
     },
     "metadata": {},
     "output_type": "display_data"
    }
   ],
   "source": [
    "# Report for each column\n",
    "for i in range(1,len(score_df.columns)):\n",
    "    score_df.hist(column = score_df.columns[i], bins = 25)\n",
    "score_df.describe()\n",
    "\n",
    "    "
   ]
  },
  {
   "cell_type": "code",
   "execution_count": null,
   "metadata": {},
   "outputs": [],
   "source": []
  },
  {
   "cell_type": "code",
   "execution_count": null,
   "metadata": {},
   "outputs": [],
   "source": []
  }
 ],
 "metadata": {
  "kernelspec": {
   "display_name": "Python 3",
   "language": "python",
   "name": "python3"
  },
  "language_info": {
   "codemirror_mode": {
    "name": "ipython",
    "version": 3
   },
   "file_extension": ".py",
   "mimetype": "text/x-python",
   "name": "python",
   "nbconvert_exporter": "python",
   "pygments_lexer": "ipython3",
   "version": "3.6.4"
  }
 },
 "nbformat": 4,
 "nbformat_minor": 2
}
